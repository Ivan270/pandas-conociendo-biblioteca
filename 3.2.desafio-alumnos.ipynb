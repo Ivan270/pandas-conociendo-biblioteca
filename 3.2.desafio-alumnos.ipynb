{
 "cells": [
  {
   "cell_type": "markdown",
   "id": "9396b722",
   "metadata": {},
   "source": [
    "# Desafío\n",
    "Para practicar los métodos aprendidos a lo largo de esta lección y aprender nuevos, realizaremos algunos tratamientos y selecciones utilizando un archivo CSV diferente: [alumnos.csv](https://gist.githubusercontent.com/ahcamachod/807a2c1cf6c19108b2b701ea1791ab45/raw/fb84f8b2d8917a89de26679eccdbc8f9c1d2e933/alumnos.csv).\n",
    "\n",
    "Este archivo es el mismo que se utilizó para resolver los desafíos de la lección 1 y contiene datos de estudiantes de un curso superior.\n",
    "\n",
    "Basándonos en esto, resolvamos los problemas propuestos a continuación utilizando los conocimientos adquiridos hasta ahora.\n",
    "\n",
    "1. Verifica si la base de datos contiene datos nulos y, en caso de tenerlos, realiza el tratamiento de estos datos nulos de la manera que consideres más coherente con la situación.\n",
    "\n",
    "2. Los estudiantes \"Alicia\" y \"Carlos\" ya no forman parte del grupo. Por lo tanto, elimínalos de la base de datos.\n",
    "\n",
    "3. Aplica un filtro que seleccione solo a los estudiantes que fueron aprobados.\n",
    "\n",
    "4. Guarda el DataFrame que contiene solo a los estudiantes aprobados en un archivo CSV llamado \"alumnos_aprobados.csv\".\n",
    "\n",
    "Extra: Al revisar las calificaciones de los estudiantes aprobados, notamos que algunas calificaciones eran incorrectas. Las estudiantes que obtuvieron una calificación de 7.0, en realidad tenían un punto extra que no se contabilizó. Por lo tanto, reemplaza las calificaciones de 7.0 en la base de datos por 8.0. Consejo: busca el método replace.\n",
    "\n"
   ]
  },
  {
   "cell_type": "code",
   "execution_count": 17,
   "id": "fe6def98",
   "metadata": {},
   "outputs": [],
   "source": [
    "import pandas as pd\n",
    "\n",
    "# lectura del archivo\n",
    "df = pd.read_csv(\n",
    "    \"https://gist.githubusercontent.com/ahcamachod/807a2c1cf6c19108b2b701ea1791ab45/raw/fb84f8b2d8917a89de26679eccdbc8f9c1d2e933/alumnos.csv\"\n",
    ")"
   ]
  },
  {
   "cell_type": "code",
   "execution_count": 18,
   "id": "88bc843f",
   "metadata": {},
   "outputs": [
    {
     "data": {
      "text/plain": [
       "Nombre      0\n",
       "Edad        0\n",
       "Nota        6\n",
       "Aprobado    0\n",
       "dtype: int64"
      ]
     },
     "execution_count": 18,
     "metadata": {},
     "output_type": "execute_result"
    }
   ],
   "source": [
    "# 1. Verificando existencia de nulos\n",
    "df.isnull().sum()"
   ]
  },
  {
   "cell_type": "code",
   "execution_count": 19,
   "id": "3a1493ad",
   "metadata": {},
   "outputs": [],
   "source": [
    "# Tratar los nulos, se opta por eliminar porque no hay notas del estudiante\n",
    "df.dropna(inplace=True)"
   ]
  },
  {
   "cell_type": "code",
   "execution_count": 20,
   "id": "388d2bc5",
   "metadata": {},
   "outputs": [
    {
     "data": {
      "text/html": [
       "<div>\n",
       "<style scoped>\n",
       "    .dataframe tbody tr th:only-of-type {\n",
       "        vertical-align: middle;\n",
       "    }\n",
       "\n",
       "    .dataframe tbody tr th {\n",
       "        vertical-align: top;\n",
       "    }\n",
       "\n",
       "    .dataframe thead th {\n",
       "        text-align: right;\n",
       "    }\n",
       "</style>\n",
       "<table border=\"1\" class=\"dataframe\">\n",
       "  <thead>\n",
       "    <tr style=\"text-align: right;\">\n",
       "      <th></th>\n",
       "      <th>Nombre</th>\n",
       "      <th>Edad</th>\n",
       "      <th>Nota</th>\n",
       "      <th>Aprobado</th>\n",
       "    </tr>\n",
       "  </thead>\n",
       "  <tbody>\n",
       "    <tr>\n",
       "      <th>0</th>\n",
       "      <td>Alberto</td>\n",
       "      <td>20</td>\n",
       "      <td>7.5</td>\n",
       "      <td>True</td>\n",
       "    </tr>\n",
       "    <tr>\n",
       "      <th>2</th>\n",
       "      <td>Camila</td>\n",
       "      <td>27</td>\n",
       "      <td>2.5</td>\n",
       "      <td>False</td>\n",
       "    </tr>\n",
       "    <tr>\n",
       "      <th>3</th>\n",
       "      <td>David</td>\n",
       "      <td>18</td>\n",
       "      <td>5.0</td>\n",
       "      <td>False</td>\n",
       "    </tr>\n",
       "    <tr>\n",
       "      <th>4</th>\n",
       "      <td>Brian</td>\n",
       "      <td>21</td>\n",
       "      <td>10.0</td>\n",
       "      <td>True</td>\n",
       "    </tr>\n",
       "    <tr>\n",
       "      <th>6</th>\n",
       "      <td>Daniela</td>\n",
       "      <td>21</td>\n",
       "      <td>7.0</td>\n",
       "      <td>True</td>\n",
       "    </tr>\n",
       "    <tr>\n",
       "      <th>11</th>\n",
       "      <td>Ignacio</td>\n",
       "      <td>24</td>\n",
       "      <td>4.5</td>\n",
       "      <td>False</td>\n",
       "    </tr>\n",
       "    <tr>\n",
       "      <th>12</th>\n",
       "      <td>Stephany</td>\n",
       "      <td>26</td>\n",
       "      <td>10.0</td>\n",
       "      <td>True</td>\n",
       "    </tr>\n",
       "    <tr>\n",
       "      <th>13</th>\n",
       "      <td>Miriam</td>\n",
       "      <td>25</td>\n",
       "      <td>9.0</td>\n",
       "      <td>True</td>\n",
       "    </tr>\n",
       "    <tr>\n",
       "      <th>15</th>\n",
       "      <td>Milena</td>\n",
       "      <td>29</td>\n",
       "      <td>7.0</td>\n",
       "      <td>True</td>\n",
       "    </tr>\n",
       "    <tr>\n",
       "      <th>17</th>\n",
       "      <td>Nadia</td>\n",
       "      <td>34</td>\n",
       "      <td>8.0</td>\n",
       "      <td>Verdadero</td>\n",
       "    </tr>\n",
       "  </tbody>\n",
       "</table>\n",
       "</div>"
      ],
      "text/plain": [
       "      Nombre  Edad  Nota   Aprobado\n",
       "0    Alberto    20   7.5       True\n",
       "2     Camila    27   2.5      False\n",
       "3      David    18   5.0      False\n",
       "4      Brian    21  10.0       True\n",
       "6    Daniela    21   7.0       True\n",
       "11   Ignacio    24   4.5      False\n",
       "12  Stephany    26  10.0       True\n",
       "13    Miriam    25   9.0       True\n",
       "15    Milena    29   7.0       True\n",
       "17     Nadia    34   8.0  Verdadero"
      ]
     },
     "execution_count": 20,
     "metadata": {},
     "output_type": "execute_result"
    }
   ],
   "source": [
    "# Eliminar estudiantes \"Alicia\" y \"Carlos\"\n",
    "filtro1 = (df['Nombre'] != 'Alicia') & (df['Nombre'] != 'Carlos')\n",
    "df1 = df[filtro1]\n",
    "df1"
   ]
  },
  {
   "cell_type": "code",
   "execution_count": 32,
   "id": "ed130052",
   "metadata": {},
   "outputs": [
    {
     "data": {
      "text/html": [
       "<div>\n",
       "<style scoped>\n",
       "    .dataframe tbody tr th:only-of-type {\n",
       "        vertical-align: middle;\n",
       "    }\n",
       "\n",
       "    .dataframe tbody tr th {\n",
       "        vertical-align: top;\n",
       "    }\n",
       "\n",
       "    .dataframe thead th {\n",
       "        text-align: right;\n",
       "    }\n",
       "</style>\n",
       "<table border=\"1\" class=\"dataframe\">\n",
       "  <thead>\n",
       "    <tr style=\"text-align: right;\">\n",
       "      <th></th>\n",
       "      <th>Nombre</th>\n",
       "      <th>Edad</th>\n",
       "      <th>Nota</th>\n",
       "      <th>Aprobado</th>\n",
       "    </tr>\n",
       "  </thead>\n",
       "  <tbody>\n",
       "    <tr>\n",
       "      <th>0</th>\n",
       "      <td>Alberto</td>\n",
       "      <td>20</td>\n",
       "      <td>7.5</td>\n",
       "      <td>True</td>\n",
       "    </tr>\n",
       "    <tr>\n",
       "      <th>4</th>\n",
       "      <td>Brian</td>\n",
       "      <td>21</td>\n",
       "      <td>10.0</td>\n",
       "      <td>True</td>\n",
       "    </tr>\n",
       "    <tr>\n",
       "      <th>6</th>\n",
       "      <td>Daniela</td>\n",
       "      <td>21</td>\n",
       "      <td>7.0</td>\n",
       "      <td>True</td>\n",
       "    </tr>\n",
       "    <tr>\n",
       "      <th>12</th>\n",
       "      <td>Stephany</td>\n",
       "      <td>26</td>\n",
       "      <td>10.0</td>\n",
       "      <td>True</td>\n",
       "    </tr>\n",
       "    <tr>\n",
       "      <th>13</th>\n",
       "      <td>Miriam</td>\n",
       "      <td>25</td>\n",
       "      <td>9.0</td>\n",
       "      <td>True</td>\n",
       "    </tr>\n",
       "    <tr>\n",
       "      <th>15</th>\n",
       "      <td>Milena</td>\n",
       "      <td>29</td>\n",
       "      <td>7.0</td>\n",
       "      <td>True</td>\n",
       "    </tr>\n",
       "  </tbody>\n",
       "</table>\n",
       "</div>"
      ],
      "text/plain": [
       "      Nombre  Edad  Nota Aprobado\n",
       "0    Alberto    20   7.5     True\n",
       "4      Brian    21  10.0     True\n",
       "6    Daniela    21   7.0     True\n",
       "12  Stephany    26  10.0     True\n",
       "13    Miriam    25   9.0     True\n",
       "15    Milena    29   7.0     True"
      ]
     },
     "execution_count": 32,
     "metadata": {},
     "output_type": "execute_result"
    }
   ],
   "source": [
    "# Filtro solo para estudiantes aprobados\n",
    "filtro_aprobados = df['Aprobado'] == 'True'\n",
    "df_aprobados = df[filtro_aprobados]\n",
    "df_aprobados"
   ]
  },
  {
   "cell_type": "code",
   "execution_count": 36,
   "id": "2ded8265",
   "metadata": {},
   "outputs": [],
   "source": [
    "# Extra: estudiantes con calificacion 7, deben tener 8\n",
    "df_aprobados = df_aprobados.replace(7.0, 8.0)"
   ]
  },
  {
   "cell_type": "code",
   "execution_count": 37,
   "id": "001c8990",
   "metadata": {},
   "outputs": [],
   "source": [
    "# Exportar datos a csv\n",
    "df_aprobados.to_csv('exported-data/alumnos_aprobados.csv', index=False)"
   ]
  }
 ],
 "metadata": {
  "kernelspec": {
   "display_name": ".venv",
   "language": "python",
   "name": "python3"
  },
  "language_info": {
   "codemirror_mode": {
    "name": "ipython",
    "version": 3
   },
   "file_extension": ".py",
   "mimetype": "text/x-python",
   "name": "python",
   "nbconvert_exporter": "python",
   "pygments_lexer": "ipython3",
   "version": "3.13.2"
  }
 },
 "nbformat": 4,
 "nbformat_minor": 5
}
